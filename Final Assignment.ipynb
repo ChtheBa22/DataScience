{
    "nbformat_minor": 1, 
    "cells": [
        {
            "source": "# Build Data Frame for Toronto", 
            "cell_type": "markdown", 
            "metadata": {
                "collapsed": true
            }
        }, 
        {
            "execution_count": 1, 
            "cell_type": "code", 
            "metadata": {}, 
            "outputs": [
                {
                    "output_type": "stream", 
                    "name": "stdout", 
                    "text": "Solving environment: done\n\n# All requested packages already installed.\n\nSolving environment: done\n\n# All requested packages already installed.\n\n"
                }
            ], 
            "source": "!conda install -c conda-forge geopy --yes \nfrom geopy.geocoders import Nominatim \n\n!conda install -c conda-forge folium=0.5.0 --yes\nimport folium\n\nfrom pandas.io.json import json_normalize \nimport matplotlib.cm as cm\nimport matplotlib.colors as colors\nfrom sklearn.cluster import KMeans\nimport numpy as np\nimport pandas as pd\nimport json\nimport requests\nfrom bs4 import BeautifulSoup"
        }, 
        {
            "execution_count": 2, 
            "cell_type": "code", 
            "metadata": {}, 
            "outputs": [], 
            "source": "website_url = requests.get('https://en.wikipedia.org/wiki/List_of_postal_codes_of_Canada:_M').text\nSource = BeautifulSoup(website_url,'lxml')\nTable = Source.find('table',{'class':'wikitable sortable'})\nheaders = \"Postal Code, Borough, Neighborhood\"\n\ntable1=\"\"\nfor tr in Table.find_all('tr'):\n    row1=\"\"\n    for tds in tr.find_all('td'):\n        row1=row1+\",\"+tds.text\n    table1=table1+row1[1:]\n    \nfile = open(\"toronto.csv\", \"wb\")\nfile.write(bytes(table1,encoding=\"ascii\", errors = \"ignore\"))\n\ndf = pd.read_csv('toronto.csv', header = None)\ndf.columns = [\"Postal Code\", \"Borough\", \"Neighborhood\"]\n\nUnassignedNames = df[ df['Borough'] == 'Not assigned'].index\ndf.drop(UnassignedNames , inplace=True)\ndf.loc[df['Neighborhood'] =='Not assigned' , 'Neighborhood'] = df['Borough']\n\nCombinedPostalCode = df.groupby(['Postal Code','Borough'], sort=False).agg(', '.join)\ndf_1 = CombinedPostalCode.reset_index()\ndf_1.head()\n\n!wget -q -O 'Toronto_long_lat_data.csv'  http://cocl.us/Geospatial_data\ndf_location = pd.read_csv('Toronto_long_lat_data.csv')\ndf_location.head()\n\ndf_2 = pd.merge(df_1,df_location[['Postal Code','Latitude', 'Longitude']],on='Postal Code')"
        }, 
        {
            "execution_count": 3, 
            "cell_type": "code", 
            "metadata": {}, 
            "outputs": [
                {
                    "execution_count": 3, 
                    "metadata": {}, 
                    "data": {
                        "text/html": "<div>\n<style scoped>\n    .dataframe tbody tr th:only-of-type {\n        vertical-align: middle;\n    }\n\n    .dataframe tbody tr th {\n        vertical-align: top;\n    }\n\n    .dataframe thead th {\n        text-align: right;\n    }\n</style>\n<table border=\"1\" class=\"dataframe\">\n  <thead>\n    <tr style=\"text-align: right;\">\n      <th></th>\n      <th>Postal Code</th>\n      <th>Borough</th>\n      <th>Neighborhood</th>\n      <th>Latitude</th>\n      <th>Longitude</th>\n    </tr>\n  </thead>\n  <tbody>\n    <tr>\n      <th>0</th>\n      <td>M3A</td>\n      <td>North York</td>\n      <td>Parkwoods</td>\n      <td>43.753259</td>\n      <td>-79.329656</td>\n    </tr>\n    <tr>\n      <th>1</th>\n      <td>M4A</td>\n      <td>North York</td>\n      <td>Victoria Village</td>\n      <td>43.725882</td>\n      <td>-79.315572</td>\n    </tr>\n    <tr>\n      <th>2</th>\n      <td>M5A</td>\n      <td>Downtown Toronto</td>\n      <td>Harbourfront, Regent Park</td>\n      <td>43.654260</td>\n      <td>-79.360636</td>\n    </tr>\n    <tr>\n      <th>3</th>\n      <td>M6A</td>\n      <td>North York</td>\n      <td>Lawrence Heights, Lawrence Manor</td>\n      <td>43.718518</td>\n      <td>-79.464763</td>\n    </tr>\n    <tr>\n      <th>4</th>\n      <td>M7A</td>\n      <td>Queen's Park</td>\n      <td>Queen's Park</td>\n      <td>43.662301</td>\n      <td>-79.389494</td>\n    </tr>\n  </tbody>\n</table>\n</div>", 
                        "text/plain": "  Postal Code           Borough                      Neighborhood   Latitude  \\\n0         M3A        North York                         Parkwoods  43.753259   \n1         M4A        North York                  Victoria Village  43.725882   \n2         M5A  Downtown Toronto         Harbourfront, Regent Park  43.654260   \n3         M6A        North York  Lawrence Heights, Lawrence Manor  43.718518   \n4         M7A      Queen's Park                      Queen's Park  43.662301   \n\n   Longitude  \n0 -79.329656  \n1 -79.315572  \n2 -79.360636  \n3 -79.464763  \n4 -79.389494  "
                    }, 
                    "output_type": "execute_result"
                }
            ], 
            "source": "df_2.head()"
        }, 
        {
            "execution_count": 4, 
            "cell_type": "code", 
            "metadata": {}, 
            "outputs": [
                {
                    "output_type": "stream", 
                    "name": "stdout", 
                    "text": "Your credentails:\nCLIENT_ID: UGCUAOA02AWVH0URHOV3KVCYHE2VV4X3O5NMY2HPLJDZNJNR\nCLIENT_SECRET:QP2HFQWSUFJNZOGBEZ01UKASPV4YHISVEPQAQ4FL5K40S4CO\n"
                }
            ], 
            "source": "CLIENT_ID = 'UGCUAOA02AWVH0URHOV3KVCYHE2VV4X3O5NMY2HPLJDZNJNR' # your Foursquare ID\nCLIENT_SECRET = 'QP2HFQWSUFJNZOGBEZ01UKASPV4YHISVEPQAQ4FL5K40S4CO' # your Foursquare Secret\nVERSION = '20180605' # Foursquare API version\n\nprint('Your credentails:')\nprint('CLIENT_ID: ' + CLIENT_ID)\nprint('CLIENT_SECRET:' + CLIENT_SECRET)"
        }, 
        {
            "execution_count": 158, 
            "cell_type": "code", 
            "metadata": {}, 
            "outputs": [
                {
                    "output_type": "stream", 
                    "name": "stdout", 
                    "text": "Parkwoods\nVictoria Village\nHarbourfront, Regent Park\nLawrence Heights, Lawrence Manor\nQueen's Park\nIslington Avenue\nRouge, Malvern\nDon Mills North\nWoodbine Gardens, Parkview Hill\nRyerson, Garden District\nGlencairn\nCloverdale, Islington, Martin Grove, Princess Gardens, West Deane Park\nHighland Creek, Rouge Hill, Port Union\nFlemingdon Park, Don Mills South\nWoodbine Heights\nSt. James Town\nHumewood-Cedarvale\nBloordale Gardens, Eringate, Markland Wood, Old Burnhamthorpe\nGuildwood, Morningside, West Hill\nThe Beaches\nBerczy Park\nCaledonia-Fairbanks\nWoburn\nLeaside\nCentral Bay Street\nChristie\nCedarbrae\nHillcrest Village\nBathurst Manor, Downsview North, Wilson Heights\nThorncliffe Park\nAdelaide, King, Richmond\nDovercourt Village, Dufferin\nScarborough Village\nFairview, Henry Farm, Oriole\nNorthwood Park, York University\nEast Toronto\nHarbourfront East, Toronto Islands, Union Station\nLittle Portugal, Trinity\nEast Birchmount Park, Ionview, Kennedy Park\nBayview Village\nCFB Toronto, Downsview East\nThe Danforth West, Riverdale\nDesign Exchange, Toronto Dominion Centre\nBrockton, Exhibition Place, Parkdale Village\nClairlea, Golden Mile, Oakridge\nSilver Hills, York Mills\nDownsview West\nThe Beaches West, India Bazaar\nCommerce Court, Victoria Hotel\nDownsview, North Park, Upwood Park\nHumber Summit\nCliffcrest, Cliffside, Scarborough Village West\nNewtonbrook, Willowdale\nDownsview Central\nStudio District\nBedford Park, Lawrence Manor East\nDel Ray, Keelesdale, Mount Dennis, Silverthorn\nEmery, Humberlea\nBirch Cliff, Cliffside West\nWillowdale South\nDownsview Northwest\nLawrence Park\nRoselawn\nThe Junction North, Runnymede\nWeston\nDorset Park, Scarborough Town Centre, Wexford Heights\nYork Mills West\nDavisville North\nForest Hill North, Forest Hill West\nHigh Park, The Junction South\nWestmount\nMaryvale, Wexford\nWillowdale West\nNorth Toronto West\nThe Annex, North Midtown, Yorkville\nParkdale, Roncesvalles\nCanada Post Gateway Processing Centre\nKingsview Village, Martin Grove Gardens, Richview Gardens, St. Phillips\nAgincourt\nDavisville\nHarbord, University of Toronto\nRunnymede, Swansea\nClarks Corners, Sullivan, Tam O'Shanter\nMoore Park, Summerhill East\nChinatown, Grange Park, Kensington Market\nAgincourt North, L'Amoreaux East, Milliken, Steeles East\nDeer Park, Forest Hill SE, Rathnelly, South Hill, Summerhill West\nCN Tower, Bathurst Quay, Island airport, Harbourfront West, King and Spadina, Railway Lands, South Niagara\nHumber Bay Shores, Mimico South, New Toronto\nAlbion Gardens, Beaumond Heights, Humbergate, Jamestown, Mount Olive, Silverstone, South Steeles, Thistletown\nL'Amoreaux West\nRosedale\nStn A PO Boxes 25 The Esplanade\nAlderwood, Long Branch\nNorthwest\nUpper Rouge\nCabbagetown, St. James Town\nFirst Canadian Place, Underground city\nThe Kingsway, Montgomery Road, Old Mill North\nChurch and Wellesley\nBusiness Reply Mail Processing Centre 969 Eastern\nHumber Bay, King's Mill Park, Kingsway Park South East, Mimico NE, Old Mill South, The Queensway East, Royal York South East, Sunnylea\nKingsway Park South West, Mimico NW, The Queensway West, Royal York South West, South of Bloor\n"
                }, 
                {
                    "execution_count": 158, 
                    "metadata": {}, 
                    "data": {
                        "text/html": "<div>\n<style scoped>\n    .dataframe tbody tr th:only-of-type {\n        vertical-align: middle;\n    }\n\n    .dataframe tbody tr th {\n        vertical-align: top;\n    }\n\n    .dataframe thead th {\n        text-align: right;\n    }\n</style>\n<table border=\"1\" class=\"dataframe\">\n  <thead>\n    <tr style=\"text-align: right;\">\n      <th></th>\n      <th>Neighborhood</th>\n      <th>Neighborhood Latitude</th>\n      <th>Neighborhood Longitude</th>\n      <th>Venue</th>\n      <th>Venue Latitude</th>\n      <th>Venue Longitude</th>\n      <th>Venue Category</th>\n    </tr>\n  </thead>\n  <tbody>\n    <tr>\n      <th>0</th>\n      <td>Parkwoods</td>\n      <td>43.753259</td>\n      <td>-79.329656</td>\n      <td>Brookbanks Park</td>\n      <td>43.751976</td>\n      <td>-79.332140</td>\n      <td>Park</td>\n    </tr>\n    <tr>\n      <th>1</th>\n      <td>Parkwoods</td>\n      <td>43.753259</td>\n      <td>-79.329656</td>\n      <td>Variety Store</td>\n      <td>43.751974</td>\n      <td>-79.333114</td>\n      <td>Food &amp; Drink Shop</td>\n    </tr>\n    <tr>\n      <th>2</th>\n      <td>Parkwoods</td>\n      <td>43.753259</td>\n      <td>-79.329656</td>\n      <td>GreenWin pool</td>\n      <td>43.756232</td>\n      <td>-79.333842</td>\n      <td>Pool</td>\n    </tr>\n    <tr>\n      <th>3</th>\n      <td>Victoria Village</td>\n      <td>43.725882</td>\n      <td>-79.315572</td>\n      <td>Victoria Village Arena</td>\n      <td>43.723481</td>\n      <td>-79.315635</td>\n      <td>Hockey Arena</td>\n    </tr>\n    <tr>\n      <th>4</th>\n      <td>Victoria Village</td>\n      <td>43.725882</td>\n      <td>-79.315572</td>\n      <td>Tim Hortons</td>\n      <td>43.725517</td>\n      <td>-79.313103</td>\n      <td>Coffee Shop</td>\n    </tr>\n  </tbody>\n</table>\n</div>", 
                        "text/plain": "       Neighborhood  Neighborhood Latitude  Neighborhood Longitude  \\\n0         Parkwoods              43.753259              -79.329656   \n1         Parkwoods              43.753259              -79.329656   \n2         Parkwoods              43.753259              -79.329656   \n3  Victoria Village              43.725882              -79.315572   \n4  Victoria Village              43.725882              -79.315572   \n\n                    Venue  Venue Latitude  Venue Longitude     Venue Category  \n0         Brookbanks Park       43.751976       -79.332140               Park  \n1           Variety Store       43.751974       -79.333114  Food & Drink Shop  \n2           GreenWin pool       43.756232       -79.333842               Pool  \n3  Victoria Village Arena       43.723481       -79.315635       Hockey Arena  \n4             Tim Hortons       43.725517       -79.313103        Coffee Shop  "
                    }, 
                    "output_type": "execute_result"
                }
            ], 
            "source": "LIMIT = 100\n\ndef getNearbyVenues(names, latitudes, longitudes, radius=500):\n    \n    venues_list=[]\n    for name, lat, lng in zip(names, latitudes, longitudes):\n        print(name)\n            \n        # create the API request URL\n        url = 'https://api.foursquare.com/v2/venues/explore?&client_id={}&client_secret={}&v={}&ll={},{}&radius={}&limit={}'.format(\n            CLIENT_ID, \n            CLIENT_SECRET, \n            VERSION, \n            lat, \n            lng, \n            radius, \n            LIMIT)\n            \n        # make the GET request\n        results = requests.get(url).json()[\"response\"]['groups'][0]['items']\n        \n        # return only relevant information for each nearby venue\n        venues_list.append([(\n            name, \n            lat, \n            lng, \n            v['venue']['name'], \n            v['venue']['location']['lat'], \n            v['venue']['location']['lng'],  \n            v['venue']['categories'][0]['name']) for v in results])\n\n    nearby_venues = pd.DataFrame([item for venue_list in venues_list for item in venue_list])\n    nearby_venues.columns = ['Neighborhood', \n                  'Neighborhood Latitude', \n                  'Neighborhood Longitude', \n                  'Venue', \n                  'Venue Latitude', \n                  'Venue Longitude', \n                  'Venue Category']\n    \n    return(nearby_venues)\n\ntoronto_venues = getNearbyVenues(names=df_2['Neighborhood'],\n                                   latitudes=df_2['Latitude'],\n                                   longitudes=df_2['Longitude']\n                                  )\ntoronto_venues.head()"
        }, 
        {
            "execution_count": 109, 
            "cell_type": "code", 
            "metadata": {}, 
            "outputs": [], 
            "source": "# one hot encoding\ntoronto_onehot = pd.get_dummies(toronto_venues[['Venue Category']], prefix=\"\", prefix_sep=\"\")\n\n# add neighborhood column back to dataframe\ntoronto_onehot['Neighborhood'] = toronto_venues['Neighborhood'] \n\n# move neighborhood column to the first column\nfixed_columns = [toronto_onehot.columns[-1]] + list(toronto_onehot.columns[:-1])\ntoronto_onehot = toronto_onehot[fixed_columns]\n\ntoronto_grouped = toronto_onehot.groupby('Neighborhood').mean().reset_index()"
        }, 
        {
            "execution_count": 161, 
            "cell_type": "code", 
            "metadata": {
                "scrolled": false
            }, 
            "outputs": [], 
            "source": "corr = toronto_grouped.corr()\n#corr.style.background_gradient(cmap='coolwarm')"
        }, 
        {
            "execution_count": 164, 
            "cell_type": "code", 
            "metadata": {}, 
            "outputs": [
                {
                    "execution_count": 164, 
                    "metadata": {}, 
                    "data": {
                        "text/plain": "Yoga Studio                      float64\nAccessories Store                float64\nAfghan Restaurant                float64\nAirport                          float64\nAirport Food Court               float64\nAirport Gate                     float64\nAirport Lounge                   float64\nAirport Service                  float64\nAirport Terminal                 float64\nAmerican Restaurant              float64\nAntique Shop                     float64\nAquarium                         float64\nArt Gallery                      float64\nArt Museum                       float64\nArts & Crafts Store              float64\nAsian Restaurant                 float64\nAthletics & Sports               float64\nAuto Garage                      float64\nAuto Workshop                    float64\nBBQ Joint                        float64\nBaby Store                       float64\nBagel Shop                       float64\nBakery                           float64\nBank                             float64\nBar                              float64\nBaseball Field                   float64\nBaseball Stadium                 float64\nBasketball Court                 float64\nBasketball Stadium               float64\nBeach                            float64\n                                  ...   \nStationery Store                 float64\nSteakhouse                       float64\nStrip Club                       float64\nSupermarket                      float64\nSupplement Shop                  float64\nSushi Restaurant                 float64\nSwim School                      float64\nTaco Place                       float64\nTailor Shop                      float64\nTaiwanese Restaurant             float64\nTanning Salon                    float64\nTapas Restaurant                 float64\nTea Room                         float64\nTennis Court                     float64\nThai Restaurant                  float64\nTheater                          float64\nTheme Restaurant                 float64\nThrift / Vintage Store           float64\nToy / Game Store                 float64\nTrail                            float64\nTrain Station                    float64\nTurkish Restaurant               float64\nVegetarian / Vegan Restaurant    float64\nVideo Game Store                 float64\nVideo Store                      float64\nVietnamese Restaurant            float64\nWarehouse Store                  float64\nWine Bar                         float64\nWings Joint                      float64\nWomen's Store                    float64\nLength: 276, dtype: object"
                    }, 
                    "output_type": "execute_result"
                }
            ], 
            "source": "corr.dtypes"
        }, 
        {
            "execution_count": 176, 
            "cell_type": "code", 
            "metadata": {}, 
            "outputs": [
                {
                    "execution_count": 176, 
                    "metadata": {}, 
                    "data": {
                        "text/html": "<div>\n<style scoped>\n    .dataframe tbody tr th:only-of-type {\n        vertical-align: middle;\n    }\n\n    .dataframe tbody tr th {\n        vertical-align: top;\n    }\n\n    .dataframe thead th {\n        text-align: right;\n    }\n</style>\n<table border=\"1\" class=\"dataframe\">\n  <thead>\n    <tr style=\"text-align: right;\">\n      <th></th>\n      <th>Correlation</th>\n    </tr>\n  </thead>\n  <tbody>\n    <tr>\n      <th>Yoga Studio</th>\n      <td>0.147182</td>\n    </tr>\n    <tr>\n      <th>Accessories Store</th>\n      <td>-0.027335</td>\n    </tr>\n    <tr>\n      <th>Afghan Restaurant</th>\n      <td>-0.027335</td>\n    </tr>\n    <tr>\n      <th>Airport</th>\n      <td>-0.031725</td>\n    </tr>\n    <tr>\n      <th>Airport Food Court</th>\n      <td>-0.027335</td>\n    </tr>\n  </tbody>\n</table>\n</div>", 
                        "text/plain": "                    Correlation\nYoga Studio            0.147182\nAccessories Store     -0.027335\nAfghan Restaurant     -0.027335\nAirport               -0.031725\nAirport Food Court    -0.027335"
                    }, 
                    "output_type": "execute_result"
                }
            ], 
            "source": "#PS = pd.DataFrame()\n#PS['Correlation'] = corr['Pet Store']\n#PS['Venue Type'] = corr[0:'Pet Store']\nPS = corr['Pet Store']\nPS_df = pd.DataFrame()\nPS_df['Correlation'] = PS[:]\nPS_df.head()"
        }, 
        {
            "execution_count": 113, 
            "cell_type": "code", 
            "metadata": {}, 
            "outputs": [
                {
                    "execution_count": 113, 
                    "metadata": {}, 
                    "data": {
                        "text/html": "<div>\n<style scoped>\n    .dataframe tbody tr th:only-of-type {\n        vertical-align: middle;\n    }\n\n    .dataframe tbody tr th {\n        vertical-align: top;\n    }\n\n    .dataframe thead th {\n        text-align: right;\n    }\n</style>\n<table border=\"1\" class=\"dataframe\">\n  <thead>\n    <tr style=\"text-align: right;\">\n      <th></th>\n      <th>Correlation</th>\n    </tr>\n  </thead>\n  <tbody>\n    <tr>\n      <th>Pet Store</th>\n      <td>1.000000</td>\n    </tr>\n    <tr>\n      <th>Latin American Restaurant</th>\n      <td>0.633725</td>\n    </tr>\n    <tr>\n      <th>Indian Restaurant</th>\n      <td>0.578725</td>\n    </tr>\n    <tr>\n      <th>Thrift / Vintage Store</th>\n      <td>0.508594</td>\n    </tr>\n    <tr>\n      <th>Vietnamese Restaurant</th>\n      <td>0.482325</td>\n    </tr>\n    <tr>\n      <th>Furniture / Home Store</th>\n      <td>0.335193</td>\n    </tr>\n    <tr>\n      <th>Bridal Shop</th>\n      <td>0.271313</td>\n    </tr>\n    <tr>\n      <th>Frozen Yogurt Shop</th>\n      <td>0.271313</td>\n    </tr>\n    <tr>\n      <th>Gastropub</th>\n      <td>0.263341</td>\n    </tr>\n    <tr>\n      <th>Fish &amp; Chips Shop</th>\n      <td>0.248131</td>\n    </tr>\n  </tbody>\n</table>\n</div>", 
                        "text/plain": "                           Correlation\nPet Store                     1.000000\nLatin American Restaurant     0.633725\nIndian Restaurant             0.578725\nThrift / Vintage Store        0.508594\nVietnamese Restaurant         0.482325\nFurniture / Home Store        0.335193\nBridal Shop                   0.271313\nFrozen Yogurt Shop            0.271313\nGastropub                     0.263341\nFish & Chips Shop             0.248131"
                    }, 
                    "output_type": "execute_result"
                }
            ], 
            "source": "PS_sorted=PS_df.sort_values('Correlation', ascending=False)\nPS_sorted.head(10)"
        }, 
        {
            "execution_count": null, 
            "cell_type": "code", 
            "metadata": {}, 
            "outputs": [], 
            "source": ""
        }, 
        {
            "execution_count": 146, 
            "cell_type": "code", 
            "metadata": {}, 
            "outputs": [
                {
                    "execution_count": 146, 
                    "metadata": {}, 
                    "data": {
                        "text/plain": "(276, 1)"
                    }, 
                    "output_type": "execute_result"
                }
            ], 
            "source": ""
        }, 
        {
            "execution_count": 101, 
            "cell_type": "code", 
            "metadata": {}, 
            "outputs": [], 
            "source": "def return_most_common_venues(row, num_top_venues):\n    row_categories = row.iloc[1:]\n    row_categories_sorted = row_categories.sort_values(ascending=False)\n    \n    return row_categories_sorted.index.values[0:num_top_venues]"
        }, 
        {
            "execution_count": 159, 
            "cell_type": "code", 
            "metadata": {}, 
            "outputs": [
                {
                    "execution_count": 159, 
                    "metadata": {}, 
                    "data": {
                        "text/html": "<div>\n<style scoped>\n    .dataframe tbody tr th:only-of-type {\n        vertical-align: middle;\n    }\n\n    .dataframe tbody tr th {\n        vertical-align: top;\n    }\n\n    .dataframe thead th {\n        text-align: right;\n    }\n</style>\n<table border=\"1\" class=\"dataframe\">\n  <thead>\n    <tr style=\"text-align: right;\">\n      <th></th>\n      <th>Neighborhood</th>\n      <th>1st Most Common Venue</th>\n      <th>2nd Most Common Venue</th>\n      <th>3rd Most Common Venue</th>\n      <th>4th Most Common Venue</th>\n      <th>5th Most Common Venue</th>\n      <th>6th Most Common Venue</th>\n      <th>7th Most Common Venue</th>\n      <th>8th Most Common Venue</th>\n      <th>9th Most Common Venue</th>\n      <th>10th Most Common Venue</th>\n    </tr>\n  </thead>\n  <tbody>\n    <tr>\n      <th>0</th>\n      <td>Adelaide, King, Richmond</td>\n      <td>Coffee Shop</td>\n      <td>Caf\u00e9</td>\n      <td>Bar</td>\n      <td>Steakhouse</td>\n      <td>American Restaurant</td>\n      <td>Hotel</td>\n      <td>Restaurant</td>\n      <td>Burger Joint</td>\n      <td>Asian Restaurant</td>\n      <td>Thai Restaurant</td>\n    </tr>\n    <tr>\n      <th>1</th>\n      <td>Agincourt</td>\n      <td>Lounge</td>\n      <td>Sandwich Place</td>\n      <td>Skating Rink</td>\n      <td>Breakfast Spot</td>\n      <td>Women's Store</td>\n      <td>Drugstore</td>\n      <td>Discount Store</td>\n      <td>Dog Run</td>\n      <td>Doner Restaurant</td>\n      <td>Donut Shop</td>\n    </tr>\n    <tr>\n      <th>2</th>\n      <td>Agincourt North, L'Amoreaux East, Milliken, St...</td>\n      <td>Playground</td>\n      <td>Park</td>\n      <td>Women's Store</td>\n      <td>Dumpling Restaurant</td>\n      <td>Diner</td>\n      <td>Discount Store</td>\n      <td>Dog Run</td>\n      <td>Doner Restaurant</td>\n      <td>Donut Shop</td>\n      <td>Drugstore</td>\n    </tr>\n    <tr>\n      <th>3</th>\n      <td>Albion Gardens, Beaumond Heights, Humbergate, ...</td>\n      <td>Grocery Store</td>\n      <td>Pizza Place</td>\n      <td>Fried Chicken Joint</td>\n      <td>Coffee Shop</td>\n      <td>Sandwich Place</td>\n      <td>Beer Store</td>\n      <td>Fast Food Restaurant</td>\n      <td>Pharmacy</td>\n      <td>Gluten-free Restaurant</td>\n      <td>Electronics Store</td>\n    </tr>\n    <tr>\n      <th>4</th>\n      <td>Alderwood, Long Branch</td>\n      <td>Pizza Place</td>\n      <td>Pharmacy</td>\n      <td>Skating Rink</td>\n      <td>Sandwich Place</td>\n      <td>Pub</td>\n      <td>Dance Studio</td>\n      <td>Coffee Shop</td>\n      <td>Gym</td>\n      <td>Eastern European Restaurant</td>\n      <td>Dumpling Restaurant</td>\n    </tr>\n  </tbody>\n</table>\n</div>", 
                        "text/plain": "                                        Neighborhood 1st Most Common Venue  \\\n0                           Adelaide, King, Richmond           Coffee Shop   \n1                                          Agincourt                Lounge   \n2  Agincourt North, L'Amoreaux East, Milliken, St...            Playground   \n3  Albion Gardens, Beaumond Heights, Humbergate, ...         Grocery Store   \n4                             Alderwood, Long Branch           Pizza Place   \n\n  2nd Most Common Venue 3rd Most Common Venue 4th Most Common Venue  \\\n0                  Caf\u00e9                   Bar            Steakhouse   \n1        Sandwich Place          Skating Rink        Breakfast Spot   \n2                  Park         Women's Store   Dumpling Restaurant   \n3           Pizza Place   Fried Chicken Joint           Coffee Shop   \n4              Pharmacy          Skating Rink        Sandwich Place   \n\n  5th Most Common Venue 6th Most Common Venue 7th Most Common Venue  \\\n0   American Restaurant                 Hotel            Restaurant   \n1         Women's Store             Drugstore        Discount Store   \n2                 Diner        Discount Store               Dog Run   \n3        Sandwich Place            Beer Store  Fast Food Restaurant   \n4                   Pub          Dance Studio           Coffee Shop   \n\n  8th Most Common Venue        9th Most Common Venue 10th Most Common Venue  \n0          Burger Joint             Asian Restaurant        Thai Restaurant  \n1               Dog Run             Doner Restaurant             Donut Shop  \n2      Doner Restaurant                   Donut Shop              Drugstore  \n3              Pharmacy       Gluten-free Restaurant      Electronics Store  \n4                   Gym  Eastern European Restaurant    Dumpling Restaurant  "
                    }, 
                    "output_type": "execute_result"
                }
            ], 
            "source": "num_top_venues = 10\n\nindicators = ['st', 'nd', 'rd']\n\n# create columns according to number of top venues\ncolumns = ['Neighborhood']\nfor ind in np.arange(num_top_venues):\n    try:\n        columns.append('{}{} Most Common Venue'.format(ind+1, indicators[ind]))\n    except:\n        columns.append('{}th Most Common Venue'.format(ind+1))\n\n# create a new dataframe\nneighborhoods_venues_sorted = pd.DataFrame(columns=columns)\nneighborhoods_venues_sorted['Neighborhood'] = toronto_grouped['Neighborhood']\n\nfor ind in np.arange(toronto_grouped.shape[0]):\n    neighborhoods_venues_sorted.iloc[ind, 1:] = return_most_common_venues(toronto_grouped.iloc[ind, :], num_top_venues)\n\nNVS = neighborhoods_venues_sorted"
        }, 
        {
            "execution_count": null, 
            "cell_type": "code", 
            "metadata": {}, 
            "outputs": [], 
            "source": ""
        }, 
        {
            "execution_count": 153, 
            "cell_type": "code", 
            "metadata": {}, 
            "outputs": [
                {
                    "execution_count": 153, 
                    "metadata": {}, 
                    "data": {
                        "text/html": "<div>\n<style scoped>\n    .dataframe tbody tr th:only-of-type {\n        vertical-align: middle;\n    }\n\n    .dataframe tbody tr th {\n        vertical-align: top;\n    }\n\n    .dataframe thead th {\n        text-align: right;\n    }\n</style>\n<table border=\"1\" class=\"dataframe\">\n  <thead>\n    <tr style=\"text-align: right;\">\n      <th></th>\n      <th>Neighborhood</th>\n      <th>weighted</th>\n    </tr>\n  </thead>\n  <tbody>\n    <tr>\n      <th>0</th>\n      <td>Adelaide, King, Richmond</td>\n      <td>0.012124</td>\n    </tr>\n    <tr>\n      <th>1</th>\n      <td>Agincourt</td>\n      <td>0.000000</td>\n    </tr>\n    <tr>\n      <th>2</th>\n      <td>Agincourt North, L'Amoreaux East, Milliken, St...</td>\n      <td>0.000000</td>\n    </tr>\n    <tr>\n      <th>3</th>\n      <td>Albion Gardens, Beaumond Heights, Humbergate, ...</td>\n      <td>0.000000</td>\n    </tr>\n    <tr>\n      <th>4</th>\n      <td>Alderwood, Long Branch</td>\n      <td>0.000000</td>\n    </tr>\n  </tbody>\n</table>\n</div>", 
                        "text/plain": "                                        Neighborhood  weighted\n0                           Adelaide, King, Richmond  0.012124\n1                                          Agincourt  0.000000\n2  Agincourt North, L'Amoreaux East, Milliken, St...  0.000000\n3  Albion Gardens, Beaumond Heights, Humbergate, ...  0.000000\n4                             Alderwood, Long Branch  0.000000"
                    }, 
                    "output_type": "execute_result"
                }
            ], 
            "source": "Neigh_PS_weighted = pd.DataFrame()\nNeigh_PS_weighted['Neighborhood'] = toronto_grouped['Neighborhood']\nNeigh_PS_weighted['weighted'] = toronto_grouped['Latin American Restaurant']*0.633725 + toronto_grouped['Indian Restaurant']*0.578725 + toronto_grouped['Thrift / Vintage Store']*0.508594 + toronto_grouped['Vietnamese Restaurant']*0.482325 + toronto_grouped['Furniture / Home Store']*0.335193\nNeigh_PS_weighted.head()"
        }, 
        {
            "execution_count": 154, 
            "cell_type": "code", 
            "metadata": {}, 
            "outputs": [
                {
                    "execution_count": 154, 
                    "metadata": {}, 
                    "data": {
                        "text/html": "<div>\n<style scoped>\n    .dataframe tbody tr th:only-of-type {\n        vertical-align: middle;\n    }\n\n    .dataframe tbody tr th {\n        vertical-align: top;\n    }\n\n    .dataframe thead th {\n        text-align: right;\n    }\n</style>\n<table border=\"1\" class=\"dataframe\">\n  <thead>\n    <tr style=\"text-align: right;\">\n      <th></th>\n      <th>Neighborhood</th>\n      <th>weighted</th>\n    </tr>\n  </thead>\n  <tbody>\n    <tr>\n      <th>34</th>\n      <td>Dorset Park, Scarborough Town Centre, Wexford ...</td>\n      <td>0.389661</td>\n    </tr>\n    <tr>\n      <th>62</th>\n      <td>Lawrence Heights, Lawrence Manor</td>\n      <td>0.068127</td>\n    </tr>\n    <tr>\n      <th>89</th>\n      <td>Thorncliffe Park</td>\n      <td>0.068085</td>\n    </tr>\n    <tr>\n      <th>70</th>\n      <td>Northwood Park, York University</td>\n      <td>0.067039</td>\n    </tr>\n    <tr>\n      <th>60</th>\n      <td>Kingsway Park South West, Mimico NW, The Queen...</td>\n      <td>0.036328</td>\n    </tr>\n  </tbody>\n</table>\n</div>", 
                        "text/plain": "                                         Neighborhood  weighted\n34  Dorset Park, Scarborough Town Centre, Wexford ...  0.389661\n62                   Lawrence Heights, Lawrence Manor  0.068127\n89                                   Thorncliffe Park  0.068085\n70                    Northwood Park, York University  0.067039\n60  Kingsway Park South West, Mimico NW, The Queen...  0.036328"
                    }, 
                    "output_type": "execute_result"
                }
            ], 
            "source": "Neigh_sorted=Neigh_PS_weighted.sort_values('weighted', ascending=False)\nNeigh_sorted.head()"
        }, 
        {
            "execution_count": null, 
            "cell_type": "code", 
            "metadata": {}, 
            "outputs": [], 
            "source": "NVS"
        }
    ], 
    "metadata": {
        "kernelspec": {
            "display_name": "Python 3.6", 
            "name": "python3", 
            "language": "python"
        }, 
        "language_info": {
            "mimetype": "text/x-python", 
            "nbconvert_exporter": "python", 
            "version": "3.6.8", 
            "name": "python", 
            "file_extension": ".py", 
            "pygments_lexer": "ipython3", 
            "codemirror_mode": {
                "version": 3, 
                "name": "ipython"
            }
        }
    }, 
    "nbformat": 4
}