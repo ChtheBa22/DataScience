{
    "nbformat_minor": 1, 
    "cells": [
        {
            "source": "# Location for New Pet Store in Toronto", 
            "cell_type": "markdown", 
            "metadata": {
                "collapsed": true
            }
        }, 
        {
            "source": "## 1. Introduction", 
            "cell_type": "markdown", 
            "metadata": {}
        }, 
        {
            "source": "<p>  An entrepreneur is interested in opening a pet store in Toronto.   They would like to determine what is the best neighborhood for the pet store.  The entrepreneur does not want to simply open up the pet store by looking at neighborhoods that currently have a high number of existing pet stores as the supply in those existing neighborhoods may exceed current demands.  Therefore, the goal is to identify neighborhoods that have characteristics that are suitable for pet stores but currently is undersupplied.  They believe that the best indicators for identifying the location are the type of venues that are situated in a particular neighborhood.  In particular, it is assumed that the types of venues in a particular neighborhood act as a proxy to represent the local demographic, including their needs and interests.  In this project, we will determine which type of venues are often established in conjunction with pet stores.  Once we understand what the top type of venues are, we will proceed to locate neighborhoods that have these venues as potential targets for the new pet store.  </p>", 
            "cell_type": "markdown", 
            "metadata": {}
        }, 
        {
            "source": "## 2. Data", 
            "cell_type": "markdown", 
            "metadata": {}
        }, 
        {
            "source": "### 2.1 Neighborhood ", 
            "cell_type": "markdown", 
            "metadata": {}
        }, 
        {
            "source": "<p> We will use data from Wikipedia to define the neighborhoods in Toronto. The URL is: https://en.wikipedia.org/wiki/List_of_postal_codes_of_Canada:_M</p>", 
            "cell_type": "markdown", 
            "metadata": {}
        }, 
        {
            "source": "### 2.2 Venue Data", 
            "cell_type": "markdown", 
            "metadata": {}
        }, 
        {
            "source": "<p> We will use foursquare data to build a list of the venues in each neighborhood in Toronto.  </p>", 
            "cell_type": "markdown", 
            "metadata": {}
        }, 
        {
            "source": "## 3. Methodology", 
            "cell_type": "markdown", 
            "metadata": {}
        }, 
        {
            "source": "### 3.1 Establish Related Venue Types", 
            "cell_type": "markdown", 
            "metadata": {}
        }, 
        {
            "source": "<p> In the first stage we will attempt to determine the relationship between Pet Stores and other types of venues.  This is accomplished by first counting the number of venues for each type of venue in each neighborhood in Toronto.  We will then calculate the correlation between each type of venue with Pet Stores.  The top 5 venues with the highest correlation to the instances of Pet Stores will therefore be identified as the top most related venues, in other words, these types of venues represent the demographic who are likely suitable customers of our new pet store.  </p>", 
            "cell_type": "markdown", 
            "metadata": {}
        }, 
        {
            "source": "### 3.2 Identify Target Neighborhoods ", 
            "cell_type": "markdown", 
            "metadata": {}
        }, 
        {
            "source": "<p>In the second stage, we will identify the neighborhoods that fit the characteristics above best.  This is accomplished by the counting the instances of the top venue types as determined above, and applying a weighting to that count.  The weighting is the correlation calculated above.  The weighted count for relevant venues is stored as the \u201cweighted score\u201d for each neighborhood in Toronto.  The weighted score will be sorted to identify the neighborhoods that best fits our targeted characteristics.  </p>", 
            "cell_type": "markdown", 
            "metadata": {}
        }, 
        {
            "source": "### 3.3 Find Undersupplied Neighborhoods", 
            "cell_type": "markdown", 
            "metadata": {}
        }, 
        {
            "source": "", 
            "cell_type": "markdown", 
            "metadata": {}
        }
    ], 
    "metadata": {
        "kernelspec": {
            "display_name": "Python 3.6", 
            "name": "python3", 
            "language": "python"
        }, 
        "language_info": {
            "mimetype": "text/x-python", 
            "nbconvert_exporter": "python", 
            "version": "3.6.8", 
            "name": "python", 
            "file_extension": ".py", 
            "pygments_lexer": "ipython3", 
            "codemirror_mode": {
                "version": 3, 
                "name": "ipython"
            }
        }
    }, 
    "nbformat": 4
}